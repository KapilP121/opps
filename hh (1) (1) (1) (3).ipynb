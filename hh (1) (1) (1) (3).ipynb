{
 "cells": [
  {
   "cell_type": "markdown",
   "id": "e42ac44b-d362-4cf1-bbf2-9ec3e3da607c",
   "metadata": {},
   "source": [
    "Bank Account Create a class representing a bank account with attributes like account number, account holder name, and balance. Implement methods to deposit and withdraw money from the account."
   ]
  },
  {
   "cell_type": "code",
   "execution_count": 51,
   "id": "71640a35-6306-4d61-a01a-891f52917d5e",
   "metadata": {},
   "outputs": [],
   "source": [
    "class Bank:\n",
    "\n",
    "    def accountcreat(self,name,age ,address,accountnumber):\n",
    "        print(\"custmer name,custmeraddress,account_number\")\n",
    "        return name   +  age   +  address  +  accountnumber\n",
    "    def accountbalancecheck(self,accountbalance):\n",
    "        print (\"balance check\")\n",
    "    def bankdeposite(self,ammount):\n",
    "        print(\"added money account\")\n",
    "    def bankwihdraw(self,withdrawamount):\n",
    "        print(\"account withdraw\") "
   ]
  },
  {
   "cell_type": "code",
   "execution_count": 45,
   "id": "a77a1810-ac21-4f74-9aad-72926dcc035a",
   "metadata": {},
   "outputs": [],
   "source": [
    "Kapil=Bank()"
   ]
  },
  {
   "cell_type": "code",
   "execution_count": 46,
   "id": "7611e192-a240-4f2a-ab58-a4485ec07c26",
   "metadata": {},
   "outputs": [
    {
     "name": "stdout",
     "output_type": "stream",
     "text": [
      "custmer name,custmeraddress,account_number\n"
     ]
    },
    {
     "data": {
      "text/plain": [
       "'Ram28nagpur45566'"
      ]
     },
     "execution_count": 46,
     "metadata": {},
     "output_type": "execute_result"
    }
   ],
   "source": [
    "Kapil.accountcreat(\"Ram\",\"28\",\"nagpur\",\"45566\")"
   ]
  },
  {
   "cell_type": "code",
   "execution_count": 48,
   "id": "50bb8077-a48f-427c-ad59-7ed380097828",
   "metadata": {},
   "outputs": [
    {
     "name": "stdout",
     "output_type": "stream",
     "text": [
      "added money account\n"
     ]
    }
   ],
   "source": [
    "Kapil.bankdeposite(\"ram\",200)"
   ]
  },
  {
   "cell_type": "code",
   "execution_count": 50,
   "id": "d85439f6-f8ff-43c2-92da-1f5465868dcc",
   "metadata": {},
   "outputs": [
    {
     "name": "stdout",
     "output_type": "stream",
     "text": [
      "account withdraw\n"
     ]
    }
   ],
   "source": [
    "Kapil.bankwihdraw(\"ram\",100)"
   ]
  },
  {
   "cell_type": "code",
   "execution_count": 52,
   "id": "94685a07-cffa-4c51-bc3a-c58673c6bc49",
   "metadata": {},
   "outputs": [
    {
     "name": "stdout",
     "output_type": "stream",
     "text": [
      "balance check\n"
     ]
    }
   ],
   "source": [
    "Kapil.accountbalancecheck(\"ram\",500)"
   ]
  },
  {
   "cell_type": "markdown",
   "id": "6b23ee51-b193-4e9d-8943-ca3a5fa671d4",
   "metadata": {},
   "source": [
    "Employee Management Create a class representing an employee with attributes like employee ID, name, and salary. Implement methods to calculate the yearly bonus and display employee details."
   ]
  },
  {
   "cell_type": "code",
   "execution_count": 148,
   "id": "faff1f00-260c-4535-af9b-8f6c513448cb",
   "metadata": {},
   "outputs": [],
   "source": [
    "class EmployeeManagement :\n",
    "    def Employeedetails(self,employee_id, employee_name):\n",
    "        print(\"taking Empolyee_id and name\")\n",
    "        return employee_id+employee_name\n",
    "    def Employeesalary(self,employee_salary):\n",
    "        print(\"taking salary\")\n",
    "    def Employeeyearlybouns(self,Bonsyearly):\n",
    "        print(\"incress bounes 5000\")\n",
    "    "
   ]
  },
  {
   "cell_type": "code",
   "execution_count": 149,
   "id": "e44af7b0-a15b-45cb-a0f7-a534cd1e2ab2",
   "metadata": {},
   "outputs": [],
   "source": [
    "shyam=EmployeeManagement()"
   ]
  },
  {
   "cell_type": "code",
   "execution_count": 150,
   "id": "92cc2626-75d8-42d4-bd3f-170b5a28e340",
   "metadata": {},
   "outputs": [
    {
     "name": "stdout",
     "output_type": "stream",
     "text": [
      "incress bounes 5000\n"
     ]
    }
   ],
   "source": [
    "shyam.Employeeyearlybouns(\"5000\")"
   ]
  },
  {
   "cell_type": "code",
   "execution_count": 151,
   "id": "51e955b2-de79-4395-86e8-285a155752ab",
   "metadata": {},
   "outputs": [
    {
     "name": "stdout",
     "output_type": "stream",
     "text": [
      "taking Empolyee_id and name\n"
     ]
    },
    {
     "data": {
      "text/plain": [
       "'456ram'"
      ]
     },
     "execution_count": 151,
     "metadata": {},
     "output_type": "execute_result"
    }
   ],
   "source": [
    "shyam.Employeedetails('456',\"ram\")"
   ]
  },
  {
   "cell_type": "code",
   "execution_count": 154,
   "id": "b7f0c4b5-9852-49c0-aefe-8aff9d5af248",
   "metadata": {},
   "outputs": [
    {
     "name": "stdout",
     "output_type": "stream",
     "text": [
      "taking salary\n"
     ]
    }
   ],
   "source": [
    "shyam.Employeesalary(25000)"
   ]
  },
  {
   "cell_type": "markdown",
   "id": "63867d8c-64a8-4046-98cd-0cb4631a2b6d",
   "metadata": {},
   "source": [
    "Vehicle Rental Create a class representing a vehicle rental system. Implement methods to rent a vehicle, return a vehicle, and display available vehicles."
   ]
  },
  {
   "cell_type": "code",
   "execution_count": 7,
   "id": "8ebedf52-16e8-4827-968a-ed76f06fc50a",
   "metadata": {},
   "outputs": [],
   "source": [
    "class VehicleRental :\n",
    "    def vehicle_rental_system (Self):\n",
    "        print(\"Advance Payment 50000 1 yaear \",\"thean after 5000/- per month paid it\")\n",
    "    def returned_a_vehicle(self):\n",
    "        print (\"refuned advance payment 50000\")\n",
    "    def disply_avilable_vehicle(self):\n",
    "        print(\"at time stock 7 pices avilable in stock\")"
   ]
  },
  {
   "cell_type": "code",
   "execution_count": 8,
   "id": "9c248dea-08dd-4af8-8775-9bd43437cf0c",
   "metadata": {},
   "outputs": [],
   "source": [
    "kapil=VehicleRental()"
   ]
  },
  {
   "cell_type": "code",
   "execution_count": 9,
   "id": "98305ed7-e9be-4901-937c-8453115d4654",
   "metadata": {},
   "outputs": [
    {
     "name": "stdout",
     "output_type": "stream",
     "text": [
      "at time stock 7 pices avilable in stock\n"
     ]
    }
   ],
   "source": [
    "kapil.disply_avilable_vehicle()"
   ]
  },
  {
   "cell_type": "code",
   "execution_count": 10,
   "id": "2a2d5e20-ede3-4587-bf8e-f84928eab71b",
   "metadata": {},
   "outputs": [
    {
     "name": "stdout",
     "output_type": "stream",
     "text": [
      "refuned advance payment 50000\n"
     ]
    }
   ],
   "source": [
    "kapil.returned_a_vehicle()"
   ]
  },
  {
   "cell_type": "code",
   "execution_count": 11,
   "id": "f7912e6d-cbf5-4846-95e0-16924fe4d99b",
   "metadata": {},
   "outputs": [
    {
     "name": "stdout",
     "output_type": "stream",
     "text": [
      "Advance Payment 50000 1 yaear  thean after 5000/- per month paid it\n"
     ]
    }
   ],
   "source": [
    "kapil.vehicle_rental_system()"
   ]
  },
  {
   "cell_type": "markdown",
   "id": "29bbc7c1-1cd6-4380-8222-888a2d1c663f",
   "metadata": {},
   "source": [
    "Library Catalog Create classes representing a library and a book. Implement methods to add books to the library, borrow books, and display available books."
   ]
  },
  {
   "cell_type": "code",
   "execution_count": 38,
   "id": "15136c80-e0b5-43d8-ad8c-73fb61ed032d",
   "metadata": {},
   "outputs": [],
   "source": [
    "class LibraryCatalog :\n",
    "    \n",
    "      def classes_representing_a_library(self):\n",
    "            print (\"1th to 12 class all subject book avilable in library\")\n",
    "       \n",
    "      def  addbooks(self,newbook):\n",
    "            print(\"new book added gometray\", \"algebray\")\n",
    "      def  borrowbooks(self,brrow):\n",
    "         print(\"my this boobk brrow\")"
   ]
  },
  {
   "cell_type": "code",
   "execution_count": 39,
   "id": "964f65bd-9b80-422b-bfa9-fd2809bd565b",
   "metadata": {},
   "outputs": [],
   "source": [
    "kapil=LibraryCatalog"
   ]
  },
  {
   "cell_type": "code",
   "execution_count": 41,
   "id": "90045a7e-239e-4d2d-a44b-28b1e823af1d",
   "metadata": {},
   "outputs": [
    {
     "name": "stdout",
     "output_type": "stream",
     "text": [
      "my this boobk brrow\n"
     ]
    }
   ],
   "source": [
    "kapil.borrowbooks(\"ram\",20)"
   ]
  },
  {
   "cell_type": "code",
   "execution_count": 43,
   "id": "a45b69ca-3e01-466f-94aa-0ceaf886f744",
   "metadata": {},
   "outputs": [
    {
     "name": "stdout",
     "output_type": "stream",
     "text": [
      "1th to 12 class all subject book avilable in library\n"
     ]
    }
   ],
   "source": [
    "kapil.classes_representing_a_library(\"ram\")"
   ]
  },
  {
   "cell_type": "code",
   "execution_count": 47,
   "id": "4d5bc083-6c40-4a37-bf73-4ef708879a4a",
   "metadata": {},
   "outputs": [
    {
     "name": "stdout",
     "output_type": "stream",
     "text": [
      "new book added gometray algebray\n"
     ]
    }
   ],
   "source": [
    "kapil.addbooks(\"ram\",\"algebray\")"
   ]
  },
  {
   "cell_type": "markdown",
   "id": "cca8da20-f336-4e12-addf-143ee8de4e06",
   "metadata": {},
   "source": [
    "Shape Calculation Create a class representing a shape with attributes like length, width, and height. Implement methods to calculate the area and perimeter of the shape."
   ]
  },
  {
   "cell_type": "code",
   "execution_count": 20,
   "id": "325a3072-c7f5-49ab-8db9-3f3a4637bade",
   "metadata": {},
   "outputs": [],
   "source": [
    "from functools import reduce \n",
    "class Shape_Calculation:\n",
    "    def AreaofRectangle(self,*args):\n",
    "        return reduce (lambda l,b:l*b,args)\n",
    "    def PerimeterofRectangle(self,*args):\n",
    "        return reduce (lambda l,b:2*(l+b),args)\n",
    "    "
   ]
  },
  {
   "cell_type": "code",
   "execution_count": 22,
   "id": "0b0b631d-e534-46e5-8ccd-a630a9a9b7ad",
   "metadata": {},
   "outputs": [],
   "source": [
    "ram=Shape_Calculation()"
   ]
  },
  {
   "cell_type": "code",
   "execution_count": 23,
   "id": "254f0b61-62de-493d-8d5f-c09c706299ed",
   "metadata": {},
   "outputs": [
    {
     "data": {
      "text/plain": [
       "25"
      ]
     },
     "execution_count": 23,
     "metadata": {},
     "output_type": "execute_result"
    }
   ],
   "source": [
    "ram.AreaofRectangle(5,5)"
   ]
  },
  {
   "cell_type": "code",
   "execution_count": 24,
   "id": "1be98b56-bf5b-4a8b-b07b-dddb2d083cc8",
   "metadata": {},
   "outputs": [
    {
     "data": {
      "text/plain": [
       "14"
      ]
     },
     "execution_count": 24,
     "metadata": {},
     "output_type": "execute_result"
    }
   ],
   "source": [
    "ram.PerimeterofRectangle(3,4)"
   ]
  },
  {
   "cell_type": "markdown",
   "id": "56c59f08-c6b0-476e-a5fe-fa9cf9f55fbe",
   "metadata": {},
   "source": [
    "Student Management Create a class representing a student with attributes like student ID, name, and grades. Implement methods to calculate the average grade and display student details."
   ]
  },
  {
   "cell_type": "code",
   "execution_count": 156,
   "id": "8514e3a9-6a53-4f5c-bb57-695ede390fc5",
   "metadata": {},
   "outputs": [],
   "source": [
    "class Student_Management:\n",
    "    def setudent_id(self,Student_Id):\n",
    "        print(\"Student id \")\n",
    "    def setudent_name(self,name):\n",
    "        print(\"student name\")\n",
    "    def student_grades(self,grade):\n",
    "        print(\"student grade is A\")\n",
    "    def student_average_grade(self,Grade):\n",
    "        print(\"student average grade is B \")\n",
    "    def student_details(self,name,name2):\n",
    "        print(\"student disply name average and good \")"
   ]
  },
  {
   "cell_type": "code",
   "execution_count": 158,
   "id": "8b559fc2-a5ac-46f0-8bb4-edebdf220264",
   "metadata": {},
   "outputs": [],
   "source": [
    "shyam=Student_Management()"
   ]
  },
  {
   "cell_type": "code",
   "execution_count": 159,
   "id": "684fe4ee-9839-4e30-abfc-6eb244ad4d0a",
   "metadata": {},
   "outputs": [
    {
     "name": "stdout",
     "output_type": "stream",
     "text": [
      "student disply name average and good \n"
     ]
    }
   ],
   "source": [
    "shyam.student_details(\"kapil\",\"Ram\")"
   ]
  },
  {
   "cell_type": "code",
   "execution_count": 115,
   "id": "25738bea-39da-4ae4-b7ef-779b3cbf22f1",
   "metadata": {},
   "outputs": [
    {
     "name": "stdout",
     "output_type": "stream",
     "text": [
      "Student id \n"
     ]
    }
   ],
   "source": [
    "shyam.setudent_id(756)"
   ]
  },
  {
   "cell_type": "code",
   "execution_count": 116,
   "id": "47851152-835f-4736-b68f-e9d5f332c424",
   "metadata": {},
   "outputs": [
    {
     "name": "stdout",
     "output_type": "stream",
     "text": [
      "student name\n"
     ]
    }
   ],
   "source": [
    "shyam.setudent_name(\"kapil\")"
   ]
  },
  {
   "cell_type": "code",
   "execution_count": 117,
   "id": "58f584f5-44e9-4dad-ad02-4852cfeab90b",
   "metadata": {},
   "outputs": [
    {
     "name": "stdout",
     "output_type": "stream",
     "text": [
      "student average grade is B \n"
     ]
    }
   ],
   "source": [
    "shyam.student_average_grade(60)"
   ]
  },
  {
   "cell_type": "code",
   "execution_count": 118,
   "id": "63c1024e-74f0-4993-9999-b8a0646f4938",
   "metadata": {},
   "outputs": [
    {
     "name": "stdout",
     "output_type": "stream",
     "text": [
      "student grade is A\n"
     ]
    }
   ],
   "source": [
    "shyam.student_grades(90)"
   ]
  },
  {
   "cell_type": "code",
   "execution_count": 120,
   "id": "d398fc7e-341e-4ba2-81ce-f7b48b32c886",
   "metadata": {},
   "outputs": [
    {
     "name": "stdout",
     "output_type": "stream",
     "text": [
      "student disply name average and good \n"
     ]
    }
   ],
   "source": [
    "shyam.student_details(ram)"
   ]
  },
  {
   "cell_type": "markdown",
   "id": "73f485b1-bdc1-41dd-a093-35f759fa1cb6",
   "metadata": {},
   "source": [
    " Email Management Create a class representing an email with attributes like sender, recipient, and subject. Implement methods to send an email and display email details."
   ]
  },
  {
   "cell_type": "code",
   "execution_count": 151,
   "id": "cba06c4f-2cfa-4d64-a542-e8ecca8d5340",
   "metadata": {},
   "outputs": [],
   "source": [
    "class Email_Management:\n",
    "    def __init__(self,userid,password):\n",
    "        self.userid=userid\n",
    "        self.password=password\n",
    "    def login(self):\n",
    "        print(\"taking user id\"+ self.password)\n",
    "    def sender_mail(self):\n",
    "        print(self.userid+self.password + \"send mail easily \")\n",
    "    def subject_mail(self):\n",
    "        print(self.userid+self.password + \"subject mail\"+\"send mail easily \")\n",
    "    def display_email(self):\n",
    "        print(self.userid+self.password + \"display mail\")"
   ]
  },
  {
   "cell_type": "code",
   "execution_count": 153,
   "id": "afa725d8-ac7b-4ba4-9a51-078fe87c64f3",
   "metadata": {},
   "outputs": [
    {
     "name": "stdout",
     "output_type": "stream",
     "text": [
      "taking user idpass1\n"
     ]
    }
   ],
   "source": [
    "user1=Email_Management(\"kapil\",\"pass1\")\n",
    "user1.login()"
   ]
  },
  {
   "cell_type": "code",
   "execution_count": 154,
   "id": "8d1abb22-8b7e-4c54-be1a-f02656156dd2",
   "metadata": {},
   "outputs": [
    {
     "name": "stdout",
     "output_type": "stream",
     "text": [
      "kapilpass1subject mailsend mail easily \n"
     ]
    }
   ],
   "source": [
    "user1.subject_mail()"
   ]
  },
  {
   "cell_type": "code",
   "execution_count": 155,
   "id": "71fa646f-27e1-4a73-8638-4f315ff9f939",
   "metadata": {},
   "outputs": [
    {
     "name": "stdout",
     "output_type": "stream",
     "text": [
      "kapilpass1send mail easily \n"
     ]
    }
   ],
   "source": [
    "user1.sender_mail()"
   ]
  },
  {
   "cell_type": "code",
   "execution_count": null,
   "id": "6d770afe-c55f-4ac7-9ea5-00350ef3f5af",
   "metadata": {},
   "outputs": [],
   "source": []
  }
 ],
 "metadata": {
  "kernelspec": {
   "display_name": "Python 3 (ipykernel)",
   "language": "python",
   "name": "python3"
  },
  "language_info": {
   "codemirror_mode": {
    "name": "ipython",
    "version": 3
   },
   "file_extension": ".py",
   "mimetype": "text/x-python",
   "name": "python",
   "nbconvert_exporter": "python",
   "pygments_lexer": "ipython3",
   "version": "3.10.8"
  }
 },
 "nbformat": 4,
 "nbformat_minor": 5
}
